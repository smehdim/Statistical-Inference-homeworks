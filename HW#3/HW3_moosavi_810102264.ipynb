{
  "nbformat": 4,
  "nbformat_minor": 0,
  "metadata": {
    "colab": {
      "provenance": [],
      "toc_visible": true
    },
    "kernelspec": {
      "name": "python3",
      "display_name": "Python 3"
    },
    "language_info": {
      "name": "python"
    }
  },
  "cells": [
    {
      "cell_type": "code",
      "source": [
        "from scipy.stats import chi2_contingency\n",
        "import numpy as np\n",
        "import matplotlib.pyplot as plt\n",
        "import pandas as pd\n",
        "from scipy import stats\n",
        "from scipy.stats import mannwhitneyu,binom, kstest, f, ks_2samp, t, norm, boxcox, ttest_ind\n",
        "import scipy.stats as stats\n",
        "import math\n",
        "import statsmodels.stats.power as smp\n",
        "import seaborn as sns\n",
        "from statsmodels.graphics.mosaicplot import mosaic"
      ],
      "metadata": {
        "id": "VTQeGZHr9kis"
      },
      "execution_count": null,
      "outputs": []
    },
    {
      "cell_type": "markdown",
      "source": [
        "## problem 1"
      ],
      "metadata": {
        "id": "tiUEJ9Mb5khH"
      }
    },
    {
      "cell_type": "markdown",
      "source": [
        "### part 1"
      ],
      "metadata": {
        "id": "FwAKOY94-BNj"
      }
    },
    {
      "cell_type": "markdown",
      "source": [
        "To do Wilcoxon signed rank test we need to first calculate the difference between the elements of the list and the hypothesised median.Doing this we will have:\n",
        "\n",
        "$differences =[ -7 , -3,   2,  18,  22,   5,  11,  -6,   8,  13,   4,   9,  27, -14,  30,   3,  10]$\n",
        "\n",
        "Now we need to calculate the W statistic.doing the calculations we will have $W=28$ which comes from those which are less than median.\n",
        "\n",
        "Then we will have:\n",
        "\n",
        "$μ = \\frac{17*18}{4}=76.5 ,σ=\\sqrt{\\frac{17*18*35}{24}}=21.12$\n",
        "\n",
        "Then we will have:\n",
        "\n",
        "$P(\\frac{28-76.5}{21.12})=0.0108$\n",
        "\n",
        "hence we can reject that median is 50K considering α=0.05."
      ],
      "metadata": {
        "id": "J_fuYKJ86dKQ"
      }
    },
    {
      "cell_type": "markdown",
      "source": [
        "###part 2\n",
        "To do this part we create a hypothical population salary of all of them being 50K and then start to do this test.To find the statistic for this test we need to calculate the U statistic from\n",
        "\n",
        " and then considering that n1 and n2 are both above 10 we can use\n",
        "$U_i= n1*n2 + \\frac{n_i(n_i+1)}{2}- W_i$\n",
        "\n",
        "To find U =221  and given that\n",
        "\n",
        "\n",
        "$μ = \\frac{17*17}{2}=144.5 ,σ=\\sqrt{\\frac{n1*n2*(n1+n2+1)}{12}}=29.03$\n",
        "\n",
        "$⇒2*P(\\frac{221-144.5}{29.03})=0.00841$\n"
      ],
      "metadata": {
        "id": "yWGbqtPW-C3A"
      }
    },
    {
      "cell_type": "code",
      "source": [
        "observed_salaries = np.array([43, 47, 52, 68, 72, 55, 61, 44, 58, 63, 54, 59, 77, 36, 80, 53, 60])\n",
        "\n",
        "hypothetical_salaries = np.full_like(observed_salaries, 50)\n",
        "\n",
        "u_statistic, p_value = mannwhitneyu(observed_salaries, hypothetical_salaries, alternative='two-sided')\n",
        "\n",
        "print(\"Mann-Whitney-Wilcoxon Test Results\\n\")\n",
        "print(\"U Statistic:\", u_statistic)\n",
        "print(\"P-value:\", p_value)\n"
      ],
      "metadata": {
        "colab": {
          "base_uri": "https://localhost:8080/"
        },
        "id": "Zb7tcJSp_65W",
        "outputId": "052b9912-32f5-494d-d1c0-30af7a5f436e"
      },
      "execution_count": null,
      "outputs": [
        {
          "output_type": "stream",
          "name": "stdout",
          "text": [
            "Mann-Whitney-Wilcoxon Test Results\n",
            "\n",
            "U Statistic: 221.0\n",
            "P-value: 0.005143142050983264\n"
          ]
        }
      ]
    },
    {
      "cell_type": "markdown",
      "source": [
        "p_value is below 0.01 so we reject that median is 50K.The 0.003 difference is because of using approximation of U statistic."
      ],
      "metadata": {
        "id": "heK_NKl3Ct3M"
      }
    },
    {
      "cell_type": "markdown",
      "source": [
        "## problem 2"
      ],
      "metadata": {
        "id": "3qAtvrgsDA9-"
      }
    },
    {
      "cell_type": "markdown",
      "source": [
        "### part 1\n",
        "To see if paricipants report more words from one ear or not what we can do is to calculate the mean of words reported from each ear and then compare them.After doing the work we reach to $mean_{right}=30.17$ and $mean_{left}=25.68$ suggesting that participants report more words from right ear.\n"
      ],
      "metadata": {
        "id": "AI_k7HvSyuUJ"
      }
    },
    {
      "cell_type": "markdown",
      "source": [
        "### part 2\n",
        "To perform Mann-Whitney-Wilcoxon Rank Sum Test we need to merge two samples and then rank them in merged list and obtain the $U_1$ and $U_2$ to find p_value.After merging we will have:\n",
        "\n",
        "$U_i= n1*n2 + \\frac{n_i(n_i+1)}{2}- W_i$\n",
        "\n",
        "$⇒U_1 = 108,U_2=35$\n",
        "\n",
        "$⇒U=35$\n",
        "\n",
        "looking at distribution of U we wil have p=0.0334 which means the\n",
        "$H_0:$participants report same number of words from each ear can be rejected."
      ],
      "metadata": {
        "id": "I8IUKDM60JRm"
      }
    },
    {
      "cell_type": "markdown",
      "source": [
        "## problem 3\n"
      ],
      "metadata": {
        "id": "fiwPjU_Wl6iZ"
      }
    },
    {
      "cell_type": "markdown",
      "source": [
        "### part 1"
      ],
      "metadata": {
        "id": "0G0-aQtkm4Mm"
      }
    },
    {
      "cell_type": "code",
      "source": [
        "\n",
        "mens_age = [52, 18, 27, 12, 24, 17, 68, 25, 12, 9, 51, 44, 42, 34, 44, 15, 21, 66, 61, 32,\n",
        "            31, 20, 6, 13, 34, 38, 45, 17, 16, 15, 36, 21, 29, 21, 29, 9, 33, 15, 37, 27,\n",
        "            31, 15, 57, 37, 27, 31, 38, 27, 60, 23]\n",
        "\n",
        "womens_age = [36, 49, 20, 31, 51, 31, 15, 16, 39, 70, 52, 16, 39, 34, 18, 34, 30, 18, 26, 18,\n",
        "              25, 16, 39, 49, 22, 37, 39, 21, 16, 63, 45, 43, 17, 28, 29, 23, 42, 23, 28, 55,\n",
        "              41, 18, 23, 8, 13, 26, 13, 27, 28, 18]\n",
        "\n",
        "\n",
        "plt.figure(figsize=(15, 9))\n",
        "\n",
        "plt.hist(mens_age, alpha=0.5, label='Men')\n",
        "\n",
        "plt.hist(womens_age, alpha=0.5, label='Women')\n",
        "\n",
        "# Add title and labels\n",
        "plt.title('Age Distribution ')\n",
        "plt.xlabel('Age')\n",
        "plt.ylabel('Number of Fans')\n",
        "plt.legend()\n",
        "\n",
        "# Show the plot\n",
        "plt.show()\n"
      ],
      "metadata": {
        "colab": {
          "base_uri": "https://localhost:8080/",
          "height": 613
        },
        "id": "nC8UlVXmmleU",
        "outputId": "987db9a3-5e24-482f-cda1-32641edc8022"
      },
      "execution_count": null,
      "outputs": [
        {
          "output_type": "display_data",
          "data": {
            "text/plain": [
              "<Figure size 1500x900 with 1 Axes>"
            ],
            "image/png": "[encoded data removed]"
          },
          "metadata": {}
        }
      ]
    },
    {
      "cell_type": "markdown",
      "source": [
        "### part 2\n",
        "The proper test here to see if the data is normal or not seems to be kolomogorov smirnov.We need to set a parameter for mean and STD of the normal distribution that we to compare our data with so we just use the mean and STD of data itself."
      ],
      "metadata": {
        "id": "eHO03J8unDS_"
      }
    },
    {
      "cell_type": "code",
      "source": [
        "# Perform Kolmogorov-Smirnov Test for Men's Ages\n",
        "ks_men = kstest(mens_age, 'norm', args=(np.mean(mens_age), np.std(mens_age, ddof=1)))\n",
        "\n",
        "# Perform Kolmogorov-Smirnov Test for Women's Ages\n",
        "ks_women = kstest(womens_age, 'norm', args=(np.mean(womens_age), np.std(womens_age, ddof=1)))\n",
        "\n",
        "# Display the test results for Men's Ages\n",
        "print(\"men:\")\n",
        "print(f\"Statistic: {ks_men[0]}, P-value: {ks_men[1]}\")\n",
        "print(\"\\n\")\n",
        "\n",
        "print(\"Women:\")\n",
        "print(f\"Statistic: {ks_women[0]}, P-value: {ks_women[1]}\")\n"
      ],
      "metadata": {
        "colab": {
          "base_uri": "https://localhost:8080/"
        },
        "id": "rbOEEH-mnnHT",
        "outputId": "66c75cdb-4c5e-4531-cef6-06f05d54909f"
      },
      "execution_count": null,
      "outputs": [
        {
          "output_type": "stream",
          "name": "stdout",
          "text": [
            "men:\n",
            "Statistic: 0.08842162440486556, P-value: 0.7967166275264528\n",
            "\n",
            "\n",
            "Women:\n",
            "Statistic: 0.10733884316141562, P-value: 0.5749180880080975\n"
          ]
        }
      ]
    },
    {
      "cell_type": "markdown",
      "source": [
        "Given the results we cannot reject that men and women distribution of age comes from a normal distribution."
      ],
      "metadata": {
        "id": "tAj3zTSlotRh"
      }
    },
    {
      "cell_type": "markdown",
      "source": [
        "### part 3\n",
        "There are several conditions for parametric test such as normality assumption, independence of observations and Homogeneity of variances.as we saw in previous part we cannot reject that the distribution is normal and assuming the sampling was fair we can say that independence of observations and Homogeneity of variances are met too."
      ],
      "metadata": {
        "id": "OL6maqm_qCV4"
      }
    },
    {
      "cell_type": "markdown",
      "source": [
        "### part 4\n",
        "In this part i used box-cox algorithm to normalize the data."
      ],
      "metadata": {
        "id": "hlD7Ij6KxYVN"
      }
    },
    {
      "cell_type": "code",
      "source": [
        "\n",
        "mens_age_transformed, _ = boxcox(mens_age)\n",
        "womens_age_transformed, _ = boxcox(womens_age)\n",
        "\n",
        "# Perform Kolmogorov-Smirnov test for goodness of fit to a normal distribution on transformed data\n",
        "ks_test_men_transformed = kstest(mens_age_transformed, 'norm', args=(np.mean(mens_age_transformed), np.std(mens_age_transformed, ddof=1)))\n",
        "ks_test_women_transformed = kstest(womens_age_transformed, 'norm', args=(np.mean(womens_age_transformed), np.std(womens_age_transformed, ddof=1)))\n",
        "\n",
        "# Print the results\n",
        "print(\"Kolmogorov-Smirnov Test for New Data\")\n",
        "print(\"-----------------------\")\n",
        "print(f\"Dn = {ks_test_men_transformed[0]}, P-value = {ks_test_men_transformed[1]}\")\n",
        "print(f\"Dn = {ks_test_women_transformed[0]}, P-value = {ks_test_women_transformed[1]}\")\n"
      ],
      "metadata": {
        "colab": {
          "base_uri": "https://localhost:8080/"
        },
        "id": "NWqg8D-nx3-2",
        "outputId": "36b38e1d-2084-4750-934a-0c1d98ef3a71"
      },
      "execution_count": null,
      "outputs": [
        {
          "output_type": "stream",
          "name": "stdout",
          "text": [
            "Kolmogorov-Smirnov Test for New Data\n",
            "-----------------------\n",
            "Dn = 0.06496462225428873, P-value = 0.9751834914066209\n",
            "Dn = 0.09752343408450787, P-value = 0.6918935935001451\n"
          ]
        }
      ]
    },
    {
      "cell_type": "markdown",
      "source": [
        "Doing the transformation we see even higher p_value suggesting that it's probably more like normal now."
      ],
      "metadata": {
        "id": "6wh8ylacytkP"
      }
    },
    {
      "cell_type": "markdown",
      "source": [
        "### part 5\n",
        "Now having new data we perform t-test on transformed data.The test is that does men and woman's ditstribution differ significantly."
      ],
      "metadata": {
        "id": "g-vI69NMy-pe"
      }
    },
    {
      "cell_type": "code",
      "source": [
        "t_statistic, p_value = ttest_ind(mens_age_transformed, womens_age_transformed)\n",
        "\n",
        "alpha = 0.05\n",
        "\n",
        "print(\"Independent Samples T-test Results:\\n\")\n",
        "print(f\"T-value: {t_statistic}\")\n",
        "print(f\"P-value: {p_value}\")\n"
      ],
      "metadata": {
        "colab": {
          "base_uri": "https://localhost:8080/"
        },
        "id": "ZNI-HhqC0Gw_",
        "outputId": "9561cb4b-7639-4d61-c090-e936e6915634"
      },
      "execution_count": null,
      "outputs": [
        {
          "output_type": "stream",
          "name": "stdout",
          "text": [
            "Independent Samples T-test Results:\n",
            "\n",
            "T-value: 6.327105981160038\n",
            "P-value: 7.498449556211095e-09\n"
          ]
        }
      ]
    },
    {
      "cell_type": "markdown",
      "source": [
        "observing the results we can reject that two distributions are identical."
      ],
      "metadata": {
        "id": "Wg1zoeI00ZCG"
      }
    },
    {
      "cell_type": "markdown",
      "source": [
        "### part 6\n",
        "To do what is wanted in this part the test i want to use is 2 sample KS test."
      ],
      "metadata": {
        "id": "LDTCrd6F0rdx"
      }
    },
    {
      "cell_type": "code",
      "source": [
        "ks_statistic, p_value = ks_2samp(mens_age, womens_age)\n",
        "\n",
        "# Print the results\n",
        "print(\"KS Statistic:\", ks_statistic)\n",
        "print(\"P-value:\", p_value)\n"
      ],
      "metadata": {
        "colab": {
          "base_uri": "https://localhost:8080/"
        },
        "id": "RlQ3R-FF1J69",
        "outputId": "7e38792b-64db-4a09-c9e5-a72391c887b9"
      },
      "execution_count": null,
      "outputs": [
        {
          "output_type": "stream",
          "name": "stdout",
          "text": [
            "KS Statistic: 0.12\n",
            "P-value: 0.8692618870414056\n"
          ]
        }
      ]
    },
    {
      "cell_type": "markdown",
      "source": [
        "We see that now the p-value is 0.869 meaning that unlike when we transformed data, now we cannot reject that two distributions are same.In other words if we did nonparametric test without transformation we couldn't reached the correct results."
      ],
      "metadata": {
        "id": "8aqk1BMs1rrD"
      }
    },
    {
      "cell_type": "markdown",
      "source": [
        "### part 7\n",
        "It seems that that when we used a transformation to change the distribution or when assuming a distribution is not very wrong, using parametric tests are prefered at least in this case.Specially knowing that parametric test usually have higher power."
      ],
      "metadata": {
        "id": "CXhoUUM223Zm"
      }
    },
    {
      "cell_type": "markdown",
      "source": [
        "## problem 4"
      ],
      "metadata": {
        "id": "cYuDQ5aB2Xr0"
      }
    },
    {
      "cell_type": "markdown",
      "source": [
        "### part 1"
      ],
      "metadata": {
        "id": "Fa_y77Cz6dXs"
      }
    },
    {
      "cell_type": "markdown",
      "source": [
        "The chi-squared statistic for testing independence is given by:\n",
        "\n",
        "$\\chi^2 = \\sum_{i=1}^{R} \\sum_{j=1}^{C} \\frac{\\left(O_{ij} - E_{ij}\\right)^2}{E_{ij}},\n",
        "$\n",
        "\n",
        "where $O_{ij}$ is the observed frequency in the $i$th row and $j$th column, and $E_{ij}$ is the expected frequency in the $i$th row and $j$th column under the assumption of independence.\n",
        "\n",
        "Under the null hypothesis $H_0: \\pi_{ij} = \\pi_{i} * \\pi_{j}$, the expected frequency $E_{ij}$ is given by:\n",
        "$\n",
        "E_{ij} = \\frac{\\text{Row Sum}_i \\times \\text{Column Sum}_j}{\\text{Grand Total}},\n",
        "$\n",
        "where $\\text{Row Sum}_i$ is the sum of the frequencies in the $i$th row, $\\text{Column Sum}_j$ is the sum of the frequencies in the $j$th column, and $\\text{Grand Total}$ is the sum of all frequencies in the table.\n",
        "\n",
        "Since instead of having frequencies we have probablities of each pair(i,j) we insert that instead of the frequencies.with all that being said we have:\n",
        "\n",
        " Expected Frequencies Table (Eij) for Independence\n",
        "\n",
        "|       | j=1 | j=2 | j=3 | Row Sum |\n",
        "|-------|-------|-------|-------|---------|\n",
        "| $i=1$ | 0.15  | 0.09  | 0.06  | 0.30    |\n",
        "| $i=2$ | 0.15  | 0.09  | 0.06  | 0.30    |\n",
        "| $i=3$ | 0.20  | 0.12  | 0.08  | 0.40    |\n",
        "|-------|-------|-------|-------|---------|\n",
        "| **Col Sum** | 0.50  | 0.30  | 0.20  |  \n",
        "\n",
        "Given the formula provided earlier for $χ_2$ we see that :\n",
        "$ \\forall i, j: \\quad E_{ij} = F_{ij} ⇒χ_2=0 ⇒p\\_value =1 $\n",
        "\n",
        "This means that we are in a region that is least indicative that rows and columns are not independent."
      ],
      "metadata": {
        "id": "dvxBJ6Gh1ohb"
      }
    },
    {
      "cell_type": "markdown",
      "source": [
        "### part 2"
      ],
      "metadata": {
        "id": "Z6azRLGU7UGB"
      }
    },
    {
      "cell_type": "markdown",
      "source": [
        "In this part i did as wanted and saved frequencies of each cell in a list called ` hist_counts`.I plotted a histogram too to ensure that the distribution is close to what we expected."
      ],
      "metadata": {
        "id": "5RL5HPJN8qWv"
      }
    },
    {
      "cell_type": "code",
      "source": [
        "\n",
        "\n",
        "# Define the 2D array of probabilities\n",
        "probabilities = np.array([[0.15, 0.09, 0.06],\n",
        "                          [0.15, 0.09, 0.06],\n",
        "                          [0.20, 0.12, 0.08]])\n",
        "\n",
        "# Flatten the array and calculate cumulative probabilities\n",
        "cdf_values = np.cumsum(probabilities.flatten())\n",
        "\n",
        "np.random.seed(0)\n",
        "count = 300\n",
        "\n",
        "random_numbers = np.random.rand(count)\n",
        "\n",
        "# Function to map random numbers to corresponding values in CDF\n",
        "def inverse_transform_sampling(random_number, cdf_values):\n",
        "    for i, cdf_value in enumerate(cdf_values):\n",
        "        if random_number <= cdf_value:\n",
        "            return i\n",
        "\n",
        "# Apply inverse transform sampling to generate values\n",
        "generated_values = [inverse_transform_sampling(random_number, cdf_values) for random_number in random_numbers]\n",
        "\n",
        "# Get histogram counts and bin edges\n",
        "hist_counts, bin_edges = np.histogram(generated_values, bins=len(cdf_values), range=(0, len(cdf_values)))\n",
        "\n",
        "\n",
        "print(\"Histogram Counts:\")\n",
        "print(hist_counts)\n",
        "\n",
        "\n",
        "plt.hist(generated_values, bins=len(cdf_values), align='left', alpha=0.5, edgecolor='black', linewidth=1.2)\n",
        "plt.xlabel('Value')\n",
        "plt.ylabel('Frequency')\n",
        "plt.title('Generated Values using Inverse Transform Sampling')\n",
        "plt.xticks(range(len(cdf_values)), [f'Bin {i+1}' for i in range(len(cdf_values))])\n",
        "plt.show()\n"
      ],
      "metadata": {
        "colab": {
          "base_uri": "https://localhost:8080/",
          "height": 507
        },
        "id": "9jtIEz7XcPBN",
        "outputId": "9d062418-9724-447f-bb1e-ccad157762fe"
      },
      "execution_count": null,
      "outputs": [
        {
          "output_type": "stream",
          "name": "stdout",
          "text": [
            "Histogram Counts:\n",
            "[47 26 21 38 22 24 63 29 30]\n"
          ]
        },
        {
          "output_type": "display_data",
          "data": {
            "text/plain": [
              "<Figure size 640x480 with 1 Axes>"
            ],
            "image/png": "[encoded data removed]"
          },
          "metadata": {}
        }
      ]
    },
    {
      "cell_type": "markdown",
      "source": [
        "### part 3\n",
        "Now that we have new values for $f_{ij}$ we must subsitute them and calulate the new results. $H_0$ being that rows and columns are independent ,like the previous part we insert the $f_{ij}$ into the equation\n",
        "$\\chi^2 = \\sum_{i=1}^{R} \\sum_{j=1}^{C} \\frac{\\left(O_{ij} - E_{ij}\\right)^2}{E_{ij}}\n",
        "$.after inserting we find the value of $χ_2$ to be 1.45356 resulting in $p\\_value = 0.8348$ given that $DOF = (3-1)(3-1)=4$.\n",
        "\n",
        "In conclusion since $p\\_value$ is larger than 0.05 we still cannot reject the hypothesis that rows and columns are independent."
      ],
      "metadata": {
        "id": "Q3sSbYRa-MSg"
      }
    },
    {
      "cell_type": "code",
      "source": [
        "prb_from_freq = hist_counts.reshape(3,3)\n",
        "chi2, p, dof, expected = chi2_contingency(prb_from_freq)\n",
        "\n",
        "print(\"Chi-square statistic: {:.{}f}\".format(chi2, 4))\n",
        "print(\"Chi-square statistic: {:.{}f}\".format(p, 4))\n",
        "print(f\"Degrees of freedom: {dof}\")\n",
        "print(f\"Expected frequencies: \\n {expected}\")"
      ],
      "metadata": {
        "colab": {
          "base_uri": "https://localhost:8080/"
        },
        "id": "bx3fz5IGerkJ",
        "outputId": "282aadf2-0d77-46e9-99ea-888ca1a3264d"
      },
      "execution_count": null,
      "outputs": [
        {
          "output_type": "stream",
          "name": "stdout",
          "text": [
            "Chi-square statistic: 1.4536\n",
            "Chi-square statistic: 0.8348\n",
            "Degrees of freedom: 4\n",
            "Expected frequencies: \n",
            " [[46.37333333 24.12666667 23.5       ]\n",
            " [41.44       21.56       21.        ]\n",
            " [60.18666667 31.31333333 30.5       ]]\n"
          ]
        }
      ]
    },
    {
      "cell_type": "markdown",
      "source": [
        "## problem 5"
      ],
      "metadata": {
        "id": "pGdH0J7v2UU8"
      }
    },
    {
      "cell_type": "markdown",
      "source": [
        "In first step we observe the the given table:\n",
        "\n",
        "Contingency Table\n",
        "\n",
        "|                      | No Moustache | Wears a Moustache | Row Sum |\n",
        "|----------------------|--------------|-------------------|---------|\n",
        "| Between 18 and 30    | 28           | 12                | 40      |\n",
        "| Over 30               | 52           | 8                 | 60      |\n",
        "| **Column Sum**        | 80           | 20                |         |\n",
        "\n",
        "Now we make the expected values table which results in the below table:\n",
        "\n",
        "Expected Frequencies Table (Eij) for Independence\n",
        "\n",
        "|                      | No Moustache | Wears a Moustache |\n",
        "|----------------------|--------------|-------------------|\n",
        "| Between 18 and 30    | 32           | 8                |\n",
        "| Over 30               | 48           | 12                |\n",
        "\n",
        "To calculate the $χ_2$ we have:\n",
        "$χ_2 = \\frac{(32-28)^2}{32}+\\frac{(12-8)^2}{8}+\\frac{(52-48)^2}{48}+\\frac{(8-12)^2}{12}=4.16667$\n",
        "Given that $DOF=(2-1)*(2-1)=1$ we find $p\\_value$ to be 0.041 meaning that with significance level of 0.05 we can reject that rows and columns are independent."
      ],
      "metadata": {
        "id": "b-MV8J3GF859"
      }
    },
    {
      "cell_type": "code",
      "source": [
        "\n",
        "data = {\n",
        "    'Age Group': ['Between 18 and 30', 'Over 30', 'Between 18 and 30', 'Over 30'],\n",
        "    'Moustache': ['No moustache', 'No moustache', 'Wears a moustache', 'Wears a moustache'],\n",
        "    'Count': [28, 52, 12, 8]\n",
        "}\n",
        "\n",
        "df = pd.DataFrame(data)\n",
        "\n",
        "contingency_table = pd.crosstab(index=df['Age Group'], columns=df['Moustache'], values=df['Count'], aggfunc='sum')\n",
        "\n",
        "chi2, p, dof, expected = chi2_contingency(contingency_table,correction=False)\n",
        "\n",
        "print(\"Chi-square statistic: {:.{}f}\".format(chi2, 4))\n",
        "print(\"Chi-square statistic: {:.{}f}\".format(p, 4))\n",
        "print(f\"Degrees of freedom: {dof}\")\n",
        "print(f\"Expected frequencies: \\n {expected}\")"
      ],
      "metadata": {
        "colab": {
          "base_uri": "https://localhost:8080/"
        },
        "id": "MqCfEZ_kBrnW",
        "outputId": "ee5c1e42-cb93-456d-ea1d-fd5470f1e2d4"
      },
      "execution_count": null,
      "outputs": [
        {
          "output_type": "stream",
          "name": "stdout",
          "text": [
            "Chi-square statistic: 4.1667\n",
            "Chi-square statistic: 0.0412\n",
            "Degrees of freedom: 1\n",
            "Expected frequencies: \n",
            " [[32.  8.]\n",
            " [48. 12.]]\n"
          ]
        }
      ]
    },
    {
      "cell_type": "markdown",
      "source": [
        "## problem 6"
      ],
      "metadata": {
        "id": "s3InO0U42QtH"
      }
    },
    {
      "cell_type": "markdown",
      "source": [
        "Like the previous question we calculate the $χ_2 $ and it's DOF and then based on them calculate the $p\\_value$.\n",
        "\n",
        "Contingency Table\n",
        "\n",
        "| Blood Type | A   | AB  | B   | O   |\n",
        "|------------|-----|-----|-----|-----|\n",
        "| Rh Negative| 27  | 9   | 7   | 13  |\n",
        "| Rh Positive| 89  | 19  | 54  | 82  |\n",
        "\n",
        "Expected Frequencies Table\n",
        "\n",
        "|            | O       | A       | B       | AB      |\n",
        "|------------|---------|---------|---------|---------|\n",
        "| Rh positive| 21.65   | 5.23    | 11.39   | 17.73   |\n",
        "| Rh negative| 94.35   | 22.77   | 49.61   | 77.27   |\n",
        "\n",
        "with above tables we have that :\n",
        "$χ_2 = \\frac{(27-21.65)^2}{21.65}+\\frac{(9-5.23)^2}{5.23}+...+\\frac{(82-77.27)^2}{77.27}=8.603$ and $DOF = (4-1)(2-1) = 3$.given this statistics we have that $p\\_value = 0.035 $ hence we reject the hypothesis."
      ],
      "metadata": {
        "id": "KOnQMZSZL7jM"
      }
    },
    {
      "cell_type": "code",
      "execution_count": null,
      "metadata": {
        "colab": {
          "base_uri": "https://localhost:8080/"
        },
        "id": "wPQw4fZo8l13",
        "outputId": "20e36623-41e1-4f69-d50f-18973bd3b241"
      },
      "outputs": [
        {
          "output_type": "stream",
          "name": "stdout",
          "text": [
            "Blood Type   A  AB   B   O\n",
            "Rh                        \n",
            "Negative    27   9   7  13\n",
            "Positive    89  19  54  82\n",
            "Chi-square statistic: 8.603698496641742\n",
            "P-value: 0.035051452790187024\n",
            "Degrees of freedom: 3\n",
            "Expected frequencies: \n",
            "[[21.65333333  5.22666667 11.38666667 17.73333333]\n",
            " [94.34666667 22.77333333 49.61333333 77.26666667]]\n"
          ]
        }
      ],
      "source": [
        "\n",
        "data = {\n",
        "    'Blood Type': ['O', 'A', 'B', 'AB', 'O', 'A', 'B', 'AB'],\n",
        "    'Rh': ['Positive', 'Positive', 'Positive', 'Positive', 'Negative', 'Negative', 'Negative', 'Negative'],\n",
        "    'Count': [82, 89, 54, 19, 13, 27, 7, 9]\n",
        "}\n",
        "\n",
        "df = pd.DataFrame(data)\n",
        "\n",
        "contingency_table = pd.crosstab(index=df['Rh'], columns=df['Blood Type'], values=df['Count'], aggfunc='sum')\n",
        "print(contingency_table)\n",
        "chi2, p, dof, expected = chi2_contingency(contingency_table)\n",
        "\n",
        "print(f\"Chi-square statistic: {chi2}\")\n",
        "print(f\"P-value: {p}\")\n",
        "print(f\"Degrees of freedom: {dof}\")\n",
        "print(f\"Expected frequencies: \\n{expected}\")"
      ]
    },
    {
      "cell_type": "markdown",
      "source": [
        "## problem 7\n"
      ],
      "metadata": {
        "id": "bMt8L4qAsAsq"
      }
    },
    {
      "cell_type": "markdown",
      "source": [
        "### part 1\n",
        "To show that minimmum $D_n$ is 0.1 and it happens only when we have F(y1) = 0.1, F(y2) =0.3, F(y3) = 0.5, F(y4) = 0.7, and F(y5) = 0.9 we shall use limits in sharp changes points.\n",
        "to do this we have :\n",
        "\n",
        "$D_n = sup|F_n(x)-F(x)|$\n",
        "\n",
        "Using this equation we will have:\n",
        "\n",
        "\\begin{cases}\n",
        "|F_n(y_1^-)-F(x)|=0.1 ⇒ 0<F(y_1^-)<0.1 \\newline\n",
        "|F_n(y_1^+)-F(x)|=0.1 ⇒ 0.1<F(y_1^+)<0.3 \\newline\n",
        "\\end{cases}\n",
        "Given that F(x) is continuos we can say that $F(y_1)=0.1$.Similarly for $y_2$:\n",
        "\n",
        "\n",
        "\\begin{cases}\n",
        "|F_n(y_2^-)-F(x)|=0.1 ⇒ 0.1<F(y_2^-)<0.3 \\newline\n",
        "|F_n(y_2^+)-F(x)|=0.1 ⇒ 0.3<F(y_2^+)<0.5 \\newline\n",
        "\\end{cases}\n",
        "Which leads to $F(y_2)=0.3$.Doing this for other points will result in $F(y_3)=0.5$, $F(y_4)=0.7$ and $F(y_5)=0.9$.\n",
        "To prove that given this F(y) values $D_n$ will be 0.1 we need to know that the distance between any number between 0 and 1 and set of $F_n(y)$ values(0, 0.2, ..., 1) is not more than 0.1."
      ],
      "metadata": {
        "id": "LNBDjeKidfCS"
      }
    },
    {
      "cell_type": "markdown",
      "source": [
        "### part 2\n",
        "To solve this part we have same equations as before but RHS of this equations are different so we solve them again.\n",
        "\n",
        "\n",
        "\\begin{cases}\n",
        "|F_n(y_1^-)-F(x)|=0.2 ⇒ 0<F(y_1^-)<0.2 \\newline\n",
        "|F_n(y_1^+)-F(x)|=0.2 ⇒ 0<F(y_1^+)<0.4 \\newline\n",
        "\\end{cases}\n",
        "\n",
        "and for $y_2$\n",
        "\n",
        "\\begin{cases}\n",
        "|F_n(y_2^-)-F(x)|=0.2 ⇒ 0<F(y_1^-)<0.4 \\newline\n",
        "|F_n(y_2^+)-F(x)|=0.2 ⇒ 0.2<F(y_1^+)<0.6 \\newline\n",
        "\\end{cases}\n",
        "Next thing we need to do is to return intesection of two answers as the answer to the problem so we will have:\n",
        "\\begin{cases}\n",
        "0 \\leq F(y_1)\\leq0.2 \\newline\n",
        "0.2\\leq F(y_2)\\leq0.4 \\newline\n",
        "0.4\\leq F(y_3)\\leq0.6 \\newline\n",
        "0.6\\leq F(y_4)\\leq0.8 \\newline\n",
        "0.8\\leq F(y_5)\\leq1 \\newline\n",
        "\\end{cases}"
      ],
      "metadata": {
        "id": "70RGOLlYiG2F"
      }
    },
    {
      "cell_type": "markdown",
      "source": [
        "## problem 8\n",
        "In this problem we aim to perform kolomogorov-smirnov test to know whether the given data comes from a distrution or not."
      ],
      "metadata": {
        "id": "muYHZ0Jr7m3T"
      }
    },
    {
      "cell_type": "markdown",
      "source": [
        "### Uniform Distribution Hypothesis\n",
        "In the first part we assess that is data coming from a $Uniform[0,1]$ or not. In order to perform kolomogorov-smirnov test , first we sort the data accending and then compare the empirical CDF of our data to the CDF of original data which we know that CDF(uniform[0,1])=x.Then we find maximumm difference between these two and name it as $D_n$ and at last given the $D_n$ will evaluate the hypothesis.Performing the test we will have $D_n = 0.18$ which results in $p\\_value=0.35$.At the 15th element, where the value is 0.42, the occurrence of $D_n$ leads to the mentioned $D_n$.Given the $p\\_value$ we cannot reject that data comes from a uniform distribution.\n"
      ],
      "metadata": {
        "id": "ssj1iSzD9AqH"
      }
    },
    {
      "cell_type": "code",
      "source": [
        "data = np.array([0.42, 0.06, 0.88, 0.40, 0.90,\n",
        "                 0.38, 0.78, 0.71, 0.57, 0.66,\n",
        "                 0.48, 0.35, 0.16, 0.22, 0.08,\n",
        "                 0.11, 0.29, 0.79, 0.75, 0.82,\n",
        "                 0.30, 0.23, 0.01, 0.41, 0.09])\n",
        "\n",
        "D, p_value = stats.kstest(data, 'uniform', args=(0, 1))\n",
        "print(f'Dn: {D}')\n",
        "print(f'p-value: {p_value}')\n",
        "\n",
        "data.sort()\n",
        "cdf_empirical = np.linspace(start=1, stop=25, num=25) / 25\n",
        "arg_max = np.argmax(cdf_empirical - data)\n",
        "\n",
        "print(f'Max CDF Difference: {cdf_empirical[arg_max]} at data point: {data[arg_max]}')\n"
      ],
      "metadata": {
        "colab": {
          "base_uri": "https://localhost:8080/"
        },
        "id": "bR-36d7J141d",
        "outputId": "642ab27b-a6d8-4ca9-a858-46fc80e518bb"
      },
      "execution_count": null,
      "outputs": [
        {
          "output_type": "stream",
          "name": "stdout",
          "text": [
            "Dn: 0.18\n",
            "p-value: 0.3501198034535574\n",
            "Max CDF Difference: 0.6 at data point: 0.42\n"
          ]
        }
      ]
    },
    {
      "cell_type": "markdown",
      "source": [
        "### Continuous Distribution Hypothesis\n",
        "In this part,again we want to use KS test but the difference is that the distribution we want to do comparisson with is different so we must define a new CDF.All other steps are same and doing them we will have $D_n=0.28$ at n=16 yielding $p\\_value=0.28$ which means that we cannot reject the hypothesis that this data comes from the given distribution.\n",
        "\n",
        "CDF of given distribution:\n",
        "\\begin{cases}\n",
        "0 & \\text{if } x \\leq 0 \\newline\n",
        "1.5x & \\text{if } 0 < x < 0.5 \\newline\n",
        "0.5 + \\frac{x}{2} & \\text{if } 0.5 \\leq x < 1 \\newline\n",
        "1 & \\text{if } x \\geq 1\n",
        "\\end{cases}"
      ],
      "metadata": {
        "id": "t9GsEW6F9DnQ"
      }
    },
    {
      "cell_type": "code",
      "source": [
        "def cdf_b(x):\n",
        "    if x <= 0:\n",
        "        return 0\n",
        "    elif 0 < x < 0.5:\n",
        "        return 1.5 * x\n",
        "    elif 0.5 <= x < 1:\n",
        "        return 0.5 + x/2\n",
        "    else:\n",
        "        return 1\n",
        "cdf_vec = np.vectorize(cdf_b)\n",
        "D, p_value = stats.kstest(data, cdf_vec(data))\n",
        "print(f'Dn: {D}')\n",
        "print(f'p-value: {p_value}')\n",
        "\n",
        "data.sort()\n",
        "cdf_empirical = cdf_vec(data)\n",
        "arg_max = np.argmax(cdf_empirical - data)\n",
        "\n",
        "print(f'Max CDF Difference: {cdf_empirical[arg_max]} at data point: {data[arg_max]}')\n"
      ],
      "metadata": {
        "id": "RFzGkrY68_qR",
        "colab": {
          "base_uri": "https://localhost:8080/"
        },
        "outputId": "ab73836d-0880-42ba-ffd9-2b4d06661659"
      },
      "execution_count": null,
      "outputs": [
        {
          "output_type": "stream",
          "name": "stdout",
          "text": [
            "Dn: 0.28\n",
            "p-value: 0.2850421476958367\n",
            "Max CDF Difference: 0.72 at data point: 0.48\n"
          ]
        }
      ]
    },
    {
      "cell_type": "markdown",
      "source": [
        "### Posterior Probability Assessment\n",
        "Given the prior probabilities and the likelihoods for the uniform and the given\n",
        "distributions,we just insert the values to find the marginal likelihood and then using $P(\\text{uniform} | \\text{data}) = \\frac{L(\\text{uniform}) \\cdot P(\\text{uniform})}{P(\\text{data})}$ we can find both $P(\\text{uniform} | \\text{data})$ and $P(\\text{given distribution} | \\text{data})$.Doing the calculations we will have:\n",
        "\n",
        "$P(\\text{uniform} | \\text{data})=0.438$\n",
        "\n",
        "$P(\\text{given distribution} | \\text{data})=0.562$\n",
        "\n",
        "indicating that the data is more likely to come from the given distribution."
      ],
      "metadata": {
        "id": "E3B6WWvYGr0f"
      }
    },
    {
      "cell_type": "code",
      "source": [
        "P_uniform = 1/2\n",
        "P_given_pdf = 1/2\n",
        "\n",
        "L_uniform = 1\n",
        "\n",
        "f_x = lambda x: 3/2 if 0 < x <= 1/2 else (1/2 if 1/2 < x < 1 else 0)\n",
        "L_given_pdf = np.prod([f_x(xi) for xi in data])\n",
        "\n",
        "P_data = L_uniform * P_uniform + L_given_pdf * P_given_pdf\n",
        "\n",
        "P_uniform_given_data = (L_uniform * P_uniform) / P_data\n",
        "\n",
        "print(\"Posterior Probability for Uniform Distribution:\", P_uniform_given_data)\n"
      ],
      "metadata": {
        "colab": {
          "base_uri": "https://localhost:8080/"
        },
        "id": "8nAXM61cGt-l",
        "outputId": "42ca3867-2699-4550-a340-1310f8240083"
      },
      "execution_count": null,
      "outputs": [
        {
          "output_type": "stream",
          "name": "stdout",
          "text": [
            "Posterior Probability for Uniform Distribution: 0.4380408216570839\n"
          ]
        }
      ]
    },
    {
      "cell_type": "markdown",
      "source": [
        "## problem 9\n",
        "In this problem we want to do kolomogorov-smirnov test for on 2 sample.In this part too when doing kolomogorov smirnov test we want to find $D_n$ but unlike previous part both CDFs are empirical.so what we must do is to sort both lists in one list and then move from smallest element to largest element and then after iterating on all data we will find $D_n$ which using that we can find $p\\_value$ and speak on credit of our hypothesis."
      ],
      "metadata": {
        "id": "X0bPRDfPRKNV"
      }
    },
    {
      "cell_type": "markdown",
      "source": [
        "### Comparison of Two Distributions"
      ],
      "metadata": {
        "id": "_z-C-ozoS8Ch"
      }
    },
    {
      "cell_type": "code",
      "source": [
        "sample_f = np.array([\n",
        "    [0.61, 0.29, 0.06, 0.59, -1.73],\n",
        "    [-0.74, 0.51, -0.56, -0.39, 1.64],\n",
        "    [0.05, -0.06, 0.64, -0.82, 0.31],\n",
        "    [1.77, 1.09, -1.28, 2.36, 1.31],\n",
        "    [1.05, -0.32, -0.40, 1.06, -2.47]\n",
        "])\n",
        "\n",
        "sample_g = np.array([\n",
        "    [2.20, 1.66, 1.38, 0.20],\n",
        "    [0.36, 0.00, 0.96, 1.56],\n",
        "    [0.44, 1.50, -0.30, 0.66],\n",
        "    [2.31, 3.29, -0.27, -0.37],\n",
        "    [0.38, 0.70, 0.52, -0.71]\n",
        "])\n",
        "\n",
        "# Flatten the arrays since ks_2samp expects 1D arrays\n",
        "flat_sample_f = sample_f.flatten()\n",
        "flat_sample_g = sample_g.flatten()\n",
        "\n",
        "# Perform the Kolmogorov-Smirnov test\n",
        "statistic, p_value = ks_2samp(flat_sample_f, flat_sample_g)\n",
        "\n",
        "print(\"Kolmogorov-Smirnov statistic:\", statistic)\n",
        "print(\"P-value:\", p_value)\n",
        "\n",
        "\n"
      ],
      "metadata": {
        "colab": {
          "base_uri": "https://localhost:8080/"
        },
        "id": "PQ1it-BFR-_U",
        "outputId": "080008e4-f928-4aed-8be9-687bcbd849d8"
      },
      "execution_count": null,
      "outputs": [
        {
          "output_type": "stream",
          "name": "stdout",
          "text": [
            "Kolmogorov-Smirnov statistic: 0.27\n",
            "P-value: 0.33570035263225584\n"
          ]
        }
      ]
    },
    {
      "cell_type": "markdown",
      "source": [
        "From the $p\\_value$ output of this part we can not reject that two distribution have the same distribution."
      ],
      "metadata": {
        "id": "OyOKp_LP6aIZ"
      }
    },
    {
      "cell_type": "markdown",
      "source": [
        "### Shifted Distribution Comparison\n"
      ],
      "metadata": {
        "id": "duvYx71HS9ir"
      }
    },
    {
      "cell_type": "code",
      "source": [
        "flat_sample_f_part_b = sample_f.flatten() + 2\n",
        "flat_sample_g_part_b = sample_g.flatten()\n",
        "\n",
        "# Perform the Kolmogorov-Smirnov test\n",
        "statistic, p_value = ks_2samp(flat_sample_f_part_b, flat_sample_g_part_b)\n",
        "\n",
        "print(\"Kolmogorov-Smirnov statistic:\", statistic)\n",
        "print(\"P-value:\", p_value)\n",
        "\n"
      ],
      "metadata": {
        "colab": {
          "base_uri": "https://localhost:8080/"
        },
        "id": "fBmio9ZcS6xs",
        "outputId": "7c5d67de-64e1-498b-b163-106b4658261b"
      },
      "execution_count": null,
      "outputs": [
        {
          "output_type": "stream",
          "name": "stdout",
          "text": [
            "Kolmogorov-Smirnov statistic: 0.56\n",
            "P-value: 0.000995587375361461\n"
          ]
        }
      ]
    },
    {
      "cell_type": "markdown",
      "source": [
        "Unlike the previous part now we see that the $p\\_value$ has dropped to almost 0.001.This indicates that the shift was enough to make two distributions distinguishable."
      ],
      "metadata": {
        "id": "ShSmhZcF7Dzo"
      }
    },
    {
      "cell_type": "markdown",
      "source": [
        "### Scaled Distribution Comparison"
      ],
      "metadata": {
        "id": "GzhjA4eo7h3A"
      }
    },
    {
      "cell_type": "code",
      "source": [
        "flat_sample_f_part_c = sample_f.flatten()\n",
        "flat_sample_g_part_c = sample_g.flatten()*3\n",
        "\n",
        "# Perform the Kolmogorov-Smirnov test\n",
        "statistic, p_value = ks_2samp(flat_sample_f_part_c, flat_sample_g_part_c)\n",
        "\n",
        "print(\"Kolmogorov-Smirnov statistic:\", statistic)\n",
        "print(\"P-value:\", p_value)\n"
      ],
      "metadata": {
        "colab": {
          "base_uri": "https://localhost:8080/"
        },
        "id": "FpJa0ZjITLsi",
        "outputId": "de473217-5d95-4b12-e86a-76320e82ea09"
      },
      "execution_count": null,
      "outputs": [
        {
          "output_type": "stream",
          "name": "stdout",
          "text": [
            "Kolmogorov-Smirnov statistic: 0.5\n",
            "P-value: 0.004861780555388566\n"
          ]
        }
      ]
    },
    {
      "cell_type": "markdown",
      "source": [
        "In this part too we se that the $p\\_value$ is very low and because it's below even 0.01 we can say that scaling by 3 changed the distribution in this case."
      ],
      "metadata": {
        "id": "bA3e5t4g741O"
      }
    },
    {
      "cell_type": "markdown",
      "source": [
        "## problem 10"
      ],
      "metadata": {
        "id": "DEz8fRe5WCNM"
      }
    },
    {
      "cell_type": "markdown",
      "source": [
        "### part 1"
      ],
      "metadata": {
        "id": "aHxkjGFDVfxs"
      }
    },
    {
      "cell_type": "markdown",
      "source": [
        "#### part a,b,c,e"
      ],
      "metadata": {
        "id": "zs8bDF3sVpdJ"
      }
    },
    {
      "cell_type": "code",
      "source": [
        "titanic = pd.read_csv('/content/drive/MyDrive/datasets/inference/hw3/titanic.csv')\n",
        "sex_survive_table = pd.crosstab(titanic['Sex'], titanic['Survived'])\n",
        "\n",
        "# Define a function to label mosaic plot segments\n",
        "dict_key = {'1':'survived', '0':'not survived'}\n",
        "def labelizer(k):\n",
        "    return f\"{k[0]} - {dict_key[k[1]]}\"\n",
        "print(sex_survive_table)"
      ],
      "metadata": {
        "colab": {
          "base_uri": "https://localhost:8080/"
        },
        "id": "YjbSNGSZYWts",
        "outputId": "4bb003cd-4c9d-4238-fb28-fd687cce4fed"
      },
      "execution_count": null,
      "outputs": [
        {
          "output_type": "stream",
          "name": "stdout",
          "text": [
            "Survived    0    1\n",
            "Sex               \n",
            "female     81  233\n",
            "male      468  109\n"
          ]
        }
      ]
    },
    {
      "cell_type": "markdown",
      "source": [
        "#### part d,f"
      ],
      "metadata": {
        "id": "hxvdMHbkYhTl"
      }
    },
    {
      "cell_type": "code",
      "source": [
        "fig, ax = plt.subplots(figsize=(8, 6))\n",
        "mosaic(sex_survive_table.stack(), title='Mosaic Plot', ax=ax, labelizer=labelizer, properties={'edgecolor': 'black'})\n",
        "\n",
        "\n",
        "plt.xlabel('Sex')\n",
        "plt.ylabel('survived')\n",
        "\n",
        "plt.show()\n",
        "\n",
        "fig, ax = plt.subplots(figsize=(10, 6))\n",
        "\n",
        "survival_proportions = sex_survive_table.div(sex_survive_table.sum(axis=1), axis=0)\n",
        "\n",
        "survival_proportions.plot(kind='bar', stacked=False, color=['#FFB6C1', '#98FB98'], ax=ax)\n",
        "\n",
        "\n",
        "plt.xlabel('Gender')\n",
        "plt.ylabel('Survival Proportion')\n",
        "plt.title('Survival Proportions within Each Gender')\n",
        "\n",
        "# Show the plot\n",
        "plt.show()\n"
      ],
      "metadata": {
        "colab": {
          "base_uri": "https://localhost:8080/",
          "height": 1000
        },
        "id": "nkxmO1LLbdTE",
        "outputId": "6c5c8638-5d06-4401-fafa-5c5d9c8b9664"
      },
      "execution_count": null,
      "outputs": [
        {
          "output_type": "display_data",
          "data": {
            "text/plain": [
              "<Figure size 800x600 with 3 Axes>"
            ],
            "image/png": "[encoded data removed]"
          },
          "metadata": {}
        },
        {
          "output_type": "display_data",
          "data": {
            "text/plain": [
              "<Figure size 1000x600 with 1 Axes>"
            ],
            "image/png": "[encoded data removed]"
          },
          "metadata": {}
        }
      ]
    },
    {
      "cell_type": "markdown",
      "source": [
        "### part 2"
      ],
      "metadata": {
        "id": "E1KXHuapYyAj"
      }
    },
    {
      "cell_type": "markdown",
      "source": [
        "#### part a,b,d\n",
        "The conditions for $χ_2$ test is that the observations must be independent, sample size must be big enough and variables should be categorical.After performing this test we see strong evidence agains $H_0$ being that survival is independent from gender.DOF also becomes 1 which is equal to (2-1)*(2-1)."
      ],
      "metadata": {
        "id": "K6O6SbFfZAI0"
      }
    },
    {
      "cell_type": "code",
      "source": [
        "\n",
        "chi2_stat, p_value, dof, expected = stats.chi2_contingency(sex_survive_table)\n",
        "\n",
        "print(f\"Chi-squared value: {chi2_stat}\")\n",
        "print(f\"Degrees of freedom: {dof}\")\n",
        "print(f\"P-value: {p_value}\")\n"
      ],
      "metadata": {
        "colab": {
          "base_uri": "https://localhost:8080/"
        },
        "id": "nxPf6cJ8uLk5",
        "outputId": "2bd5f0b5-f19c-4609-dca5-52a9ff00a5eb"
      },
      "execution_count": null,
      "outputs": [
        {
          "output_type": "stream",
          "name": "stdout",
          "text": [
            "Chi-squared value: 260.71702016732104\n",
            "Degrees of freedom: 1\n",
            "P-value: 1.1973570627755645e-58\n"
          ]
        }
      ]
    },
    {
      "cell_type": "markdown",
      "source": [
        "#### part c,e\n",
        "In this part i did fisher test.Results imply even stronger evidence again independence of gender from survival."
      ],
      "metadata": {
        "id": "Ms9cX-9AZCv2"
      }
    },
    {
      "cell_type": "code",
      "source": [
        "odds_ratio, fisher_p_value = stats.fisher_exact(sex_survive_table)\n",
        "\n",
        "print(f\"Odds Ratio: {odds_ratio}\")\n",
        "print(f\"P-value (Fisher's exact test): {fisher_p_value}\")"
      ],
      "metadata": {
        "colab": {
          "base_uri": "https://localhost:8080/"
        },
        "id": "fU7hA6eAvA5o",
        "outputId": "42a1ac5c-6903-49bb-87a3-a8f3dd5d7108"
      },
      "execution_count": null,
      "outputs": [
        {
          "output_type": "stream",
          "name": "stdout",
          "text": [
            "Odds Ratio: 0.08096731594585672\n",
            "P-value (Fisher's exact test): 6.463921564583144e-60\n"
          ]
        }
      ]
    },
    {
      "cell_type": "markdown",
      "source": [
        "## problem 11"
      ],
      "metadata": {
        "id": "xepuxe_8pmDI"
      }
    },
    {
      "cell_type": "markdown",
      "source": [
        "### part 1\n",
        "1. True. Even if a difference is highly significant, there is always a possibility that it occurred by chance. Statistical significance does not guarantee practical significance.\n",
        "\n",
        "2. False. A large, noteworthy number does not necessarily mean it is statistically significant. Statistical significance is determined by factors like sample size and variability.\n",
        "\n",
        "3. True. A p-value of 4.7% is considered statistically significant, while 5.2% is not. The p-value represents the probability of obtaining results as extreme as the observed ones if the null hypothesis is true."
      ],
      "metadata": {
        "id": "p0r6WHyOTOr2"
      }
    },
    {
      "cell_type": "markdown",
      "source": [
        "### part 2\n",
        "1. A test of significance addresses whether the observed difference is likely to have occurred by chance.\n",
        "\n",
        "2. While the importance of the difference is a valid consideration, this is typically addressed through effect size measures rather than a test of significance. Significance tests focus on whether the observed difference is statistically significant.\n",
        "\n",
        "3. A significance test doesn't prove causation or provide a detailed explanation of the difference. It only indicates whether the observed difference is likely to be statistically significant or if it could have occurred by chance.\n",
        "\n",
        "4. The design of the experiment is indeed crucial, but it's not the primary focus of a significance test. The significance test evaluates the observed data in the context of a specific hypothesis and statistical model, determining whether the results are likely due to chance or if they provide evidence against a null hypothesis. The adequacy of the experimental design is important, but it's typically considered separately from the significance test itself."
      ],
      "metadata": {
        "id": "GT3B-Mdpppdh"
      }
    },
    {
      "cell_type": "markdown",
      "source": [
        "### part 3\n",
        "False. The statement that the investigator with the lesser p-value is the one whose average is furthest away from 50 needs further qualification. The p-value considers both the effect size (how far the observed average is from the null hypothesis) and the sample size. While a smaller p-value generally suggests a more significant deviation from the null hypothesis, it's crucial to recognize that the larger sample size contributes to the precision of the estimate.\n",
        "\n",
        "In some cases, the investigator with the smaller p-value may indeed have a more substantial effect size, but this might be influenced by the larger sample size rather than a more extreme difference. Therefore, a comprehensive interpretation of the results should consider both effect size and sample size."
      ],
      "metadata": {
        "id": "0zw4gdf8U8C-"
      }
    },
    {
      "cell_type": "markdown",
      "source": [
        "### part 4\n",
        "\n",
        "In this scenario, if each company in the city hires employees without bias, using a fair random selection process for hiring, the racial makeup of their workforce should match the city's overall population. In simpler terms, there should be no discrimination in hiring.\n",
        "\n",
        "If a statistical test (z-test) shows a significant difference between the percentage of White employees at a company and the city's overall White population, it suggests that the company's workforce differs more than expected by chance. In the given context, if all companies use fair, random hiring processes, the test should not indicate discrimination. If it does, it could mean either a problem with the assumed fairness in hiring or, more likely, bias in a company's hiring practices leading to a non-random distribution of employees by race."
      ],
      "metadata": {
        "id": "U5M8Ssnoqnf1"
      }
    },
    {
      "cell_type": "markdown",
      "source": [
        "## problem 12"
      ],
      "metadata": {
        "id": "b_F_lg3izURH"
      }
    },
    {
      "cell_type": "markdown",
      "source": [
        "### part 1\n",
        "the probablity that we reject the hypothesis even if it's true equals to :\n",
        "\n",
        "$P(X < 40) + P(X > 60)$\n",
        "\n",
        "With\n",
        "\n",
        "$\n",
        "P(X = k) = \\binom{n}{k} \\cdot p^k \\cdot (1-p)^{n-k}\n",
        "$\n",
        "\n",
        "we wil have $P(X < 40) + P(X > 60)\n",
        " =0.0352$.So with probablity of 0.0352 we will reject $H_0$ even though it's true."
      ],
      "metadata": {
        "id": "lUfHaYbOIJ9A"
      }
    },
    {
      "cell_type": "markdown",
      "source": [
        "### part 2\n",
        "Given that α equals to value of type I error from previous part we see that α is 0.352."
      ],
      "metadata": {
        "id": "c0IZ-i6RKTIL"
      }
    },
    {
      "cell_type": "markdown",
      "source": [
        "### part 3"
      ],
      "metadata": {
        "id": "guLITIOYKo64"
      }
    },
    {
      "cell_type": "code",
      "source": [
        "n = 100\n",
        "p_fair = 0.5\n",
        "p_unfair = 0.7\n",
        "\n",
        "x = np.arange(0, n+1)\n",
        "y0 = binom.pmf(x, n, p_fair)\n",
        "y1 = binom.pmf(x, n, p_unfair)\n",
        "\n",
        "plt.figure(figsize=(10, 6))\n",
        "plt.plot(x, y0, label='H0')\n",
        "plt.plot(x, y1, label='H1')\n",
        "plt.fill_between(x, 0, y1, where=(x<=60), interpolate=True, color='red', alpha=0.3, label='alpha')\n",
        "plt.fill_between(x, 0, y0, where=(x<=40), interpolate=True, color='blue', alpha=0.3, label='beta')\n",
        "plt.fill_between(x, 0, y0, where=(x>=60), interpolate=True, color='blue', alpha=0.3)\n",
        "\n",
        "plt.legend()\n",
        "plt.xlabel('x')\n",
        "plt.ylabel('Probability Density')\n",
        "plt.title('Hypothesis Testing')\n",
        "plt.grid(True)\n",
        "plt.show()\n"
      ],
      "metadata": {
        "colab": {
          "base_uri": "https://localhost:8080/",
          "height": 564
        },
        "id": "ZU6CZl3RzT0f",
        "outputId": "b63ca1f6-bb7f-4cb6-e014-4631257476ba"
      },
      "execution_count": null,
      "outputs": [
        {
          "output_type": "display_data",
          "data": {
            "text/plain": [
              "<Figure size 1000x600 with 1 Axes>"
            ],
            "image/png": "[encoded data removed]"
          },
          "metadata": {}
        }
      ]
    },
    {
      "cell_type": "markdown",
      "source": [
        "In above graph we have Β and α shown."
      ],
      "metadata": {
        "id": "Op8uPA15CM2p"
      }
    },
    {
      "cell_type": "code",
      "source": [
        "sample_size = 100\n",
        "unfair_probability = 0.7\n",
        "num_iterations = 50000\n",
        "\n",
        "# Analytical Calculation of β (Type II Error) and strength of the test\n",
        "type_ii_error = binom.cdf(60, sample_size, unfair_probability) - binom.cdf(39, sample_size, unfair_probability)\n",
        "test_strength = 1 - type_ii_error\n",
        "\n",
        "# Simulating tosses for the unfair coin\n",
        "np.random.seed(0)\n",
        "heads_count_unfair_simulated = np.random.binomial(sample_size, unfair_probability, num_iterations)\n",
        "type_ii_error_simulated = np.mean((heads_count_unfair_simulated >= 40) & (heads_count_unfair_simulated <= 60))\n",
        "test_strength_simulated = 1 - type_ii_error_simulated\n",
        "\n",
        "print(f\"Analytical Type II Error (β): {type_ii_error:.4f}\")\n",
        "print(f\"Analytical Test Strength: {test_strength:.4f}\")\n",
        "print(\"\\nSimulation Results:\")\n",
        "print(f\"Simulated Type II Error (β): {type_ii_error_simulated:.4f}\")\n",
        "print(f\"Simulated Test Strength: {test_strength_simulated:.4f}\")\n"
      ],
      "metadata": {
        "colab": {
          "base_uri": "https://localhost:8080/"
        },
        "id": "m_ZH29TGDuaL",
        "outputId": "95f81cf0-fcee-4a06-90ab-565d1d52a683"
      },
      "execution_count": null,
      "outputs": [
        {
          "output_type": "stream",
          "name": "stdout",
          "text": [
            "Analytical Type II Error (β): 0.0210\n",
            "Analytical Test Strength: 0.9790\n",
            "\n",
            "Simulation Results:\n",
            "Simulated Type II Error (β): 0.0207\n",
            "Simulated Test Strength: 0.9793\n"
          ]
        }
      ]
    },
    {
      "cell_type": "markdown",
      "source": [
        "As we see power is very near to what can be derived analyticaly."
      ],
      "metadata": {
        "id": "c6h3Rf7YHHT5"
      }
    },
    {
      "cell_type": "markdown",
      "source": [
        "## problem13"
      ],
      "metadata": {
        "id": "joDGU8M7JHDe"
      }
    },
    {
      "cell_type": "markdown",
      "source": [
        "### part 1\n",
        "Because we are comparing means, samples are independent, the distribution is normal and we have enough samples(>30) the proper test seems to be z-test."
      ],
      "metadata": {
        "id": "geSaZAoyAAFv"
      }
    },
    {
      "cell_type": "markdown",
      "source": [
        "### part 2\n",
        "To perform this test we will have :\n",
        "\n",
        "$ Z = \\frac{(\\bar{X}_1 - \\bar{X}_2)}{\\sqrt{\\frac{\\sigma_1^2}{n_1} + \\frac{\\sigma_2^2}{n_2}}} ⇒\\frac{(70 - 74)}{\\sqrt{\\frac{4^2}{50} + \\frac{6^2}{65}}}≈-4.279\n",
        "$\n",
        "\n",
        "$Z(-4.279)=1.87733*10^{-5} = p_{value}$\n",
        "\n",
        "Given this p value we can strongly reject $H_0$ and the differnce is significant."
      ],
      "metadata": {
        "id": "uC_FBr5E_9mv"
      }
    },
    {
      "cell_type": "markdown",
      "source": [
        "## problem14"
      ],
      "metadata": {
        "id": "TYRq2BRhLkkC"
      }
    },
    {
      "cell_type": "markdown",
      "source": [
        "### part 1\n",
        "This is an observational study. In an observational study, the researcher observes and measures the characteristics of interest without intervening or manipulating the study subjects. In this case, the researcher is observing and comparing the spatial aptitude scores of people who play video games to those who don't."
      ],
      "metadata": {
        "id": "RvV2WsHo7d59"
      }
    },
    {
      "cell_type": "markdown",
      "source": [
        "### part 2\n",
        "In this part we will use t-test to compute the $p_{value}$.We will have:\n",
        "\n",
        "- $ var1 = 400 $ (variance of group 1)\n",
        "- $ var2 = 2500 $ (variance of group 2)\n",
        "- $ n1 = 15 $ (size of group 1)\n",
        "- $ n2 = 20 $ (size of group 2)\n",
        "- $ \\text{mean1} = 120 $\n",
        "- $ \\text{mean2} = 100 $\n",
        "- $ DOF = 20-1+15-1 = 33$\n",
        "\n",
        "$⇒t =\\frac{120-100}{\\sqrt{\\frac{400}{15} + \\frac{2500}{20}}}=1.624 ⇒ p_{value}=0.114$\n",
        "\n",
        "Which is not significant at 0.01 or 0.05 level."
      ],
      "metadata": {
        "id": "uXNXRLgT77p6"
      }
    },
    {
      "cell_type": "code",
      "source": [
        "mean1 = 120\n",
        "mean2 = 100\n",
        "var1 = 400\n",
        "var2 = 2500\n",
        "n1 = 15\n",
        "n2 = 20\n",
        "\n",
        "se = math.sqrt(var1/n1 + var2/n2)\n",
        "\n",
        "\n",
        "df = n1 + n2 - 2\n",
        "\n",
        "\n",
        "t_stat = (mean1 - mean2) / se\n",
        "\n",
        "# Calculate the p-value\n",
        "p_value = 2 * (1 - t.cdf(abs(t_stat), df))\n",
        "\n",
        "print(f\"t-statistic: {t_stat}\")\n",
        "print(f\"p-value: {p_value}\")\n"
      ],
      "metadata": {
        "colab": {
          "base_uri": "https://localhost:8080/"
        },
        "id": "Buuc8LjFLj1h",
        "outputId": "4ecdaa4a-8cfb-494e-9d14-f36251e1b6e1"
      },
      "execution_count": null,
      "outputs": [
        {
          "output_type": "stream",
          "name": "stdout",
          "text": [
            "t-statistic: 1.6239958858823003\n",
            "p-value: 0.11389181557420991\n"
          ]
        }
      ]
    },
    {
      "cell_type": "markdown",
      "source": [
        "### part 3\n",
        "A substantial difference in spatial aptitude scores between the two groups may suggest a relationship between playing video games and enhanced spatial aptitude. However, correlation does not imply causation. There could be other confounding variables or factors influencing the results. For example, individuals who play video games more may have different educational backgrounds, socioeconomic statuses, or cognitive abilities that could contribute to the observed difference. It's essential to consider these alternative explanations before concluding that playing video games directly enhances spatial aptitude. Experimental studies with controlled conditions are often needed to establish causal relationships."
      ],
      "metadata": {
        "id": "pT6hWCqq_a_S"
      }
    },
    {
      "cell_type": "markdown",
      "source": [
        "## problem 15"
      ],
      "metadata": {
        "id": "Is06TLKO0wBK"
      }
    },
    {
      "cell_type": "markdown",
      "source": [
        "### part 1\n",
        "Plugging in the variables we have:\n",
        "\n",
        "$ \\text{Power} = \\Phi\\left( z_{\\alpha} + \\frac{n^{\\frac{1}{2}} (\\mu_A - \\mu_0)}{\\sigma} \\right)= \\Phi\\left( 1.65 + \\frac{49^{\\frac{1}{2}} (0.5)}{49} \\right)= \\Phi(2.15)=0.984$\n"
      ],
      "metadata": {
        "id": "vypSmlCo_7yK"
      }
    },
    {
      "cell_type": "markdown",
      "source": [
        "### part 2\n",
        "We have that $ \\beta = 1 - \\text{Power}$ so  we will have $ \\beta = 0.016 = type II error$\n"
      ],
      "metadata": {
        "id": "ZjB8sVk5BvNm"
      }
    },
    {
      "cell_type": "markdown",
      "source": [
        "### part 3\n",
        "We have α=0.99 so $Z_{power}$ becomes 2.326 results in:\n",
        "$Z_α+\\frac{n^{1/2}(μ_α-μ_0)}{σ}=2.326 \\Rightarrow  n = \\left(\\frac{(2.326 - z_\\alpha) \\times \\sigma}{\\mu_A - \\mu_0}\\right)^2 $\n",
        "\n",
        "Inserting the variables we will have :\n",
        "\n",
        "$n≈91$"
      ],
      "metadata": {
        "id": "feI0jeQNUjdq"
      }
    },
    {
      "cell_type": "markdown",
      "source": [
        "## problem 16"
      ],
      "metadata": {
        "id": "7Dsko5qjO_K1"
      }
    },
    {
      "cell_type": "markdown",
      "source": [
        "### part 1"
      ],
      "metadata": {
        "id": "_YN8X1iKpi-0"
      }
    },
    {
      "cell_type": "markdown",
      "source": [
        "Value of alpha in this part equals to the probablity of X<40 or x>60. so we just need to calculate them and their sum will be alpha."
      ],
      "metadata": {
        "id": "L6ZraK0iXBnV"
      }
    },
    {
      "cell_type": "code",
      "source": [
        "from scipy.stats import binom\n",
        "\n",
        "n = 100\n",
        "p_null = 0.5\n",
        "\n",
        "threshold_upper = 60\n",
        "threshold_lower = 40\n",
        "\n",
        "# Calculate alpha for the upper tail\n",
        "alpha_upper = 1 - binom.cdf(threshold_upper, n, p_null)\n",
        "\n",
        "# Calculate alpha for the lower tail\n",
        "alpha_lower = binom.cdf(threshold_lower - 1, n, p_null)\n",
        "\n",
        "# Total alpha for the two-tailed test\n",
        "total_alpha = alpha_upper + alpha_lower\n",
        "\n",
        "print(f\"Alpha for the upper tail: {alpha_upper:.4f}\")\n",
        "print(f\"Alpha for the lower tail: {alpha_lower:.4f}\")\n",
        "print(f\"Total Alpha for the two-tailed test: {total_alpha:.4f}\")\n"
      ],
      "metadata": {
        "colab": {
          "base_uri": "https://localhost:8080/"
        },
        "id": "rlMWWMD6PAYk",
        "outputId": "4f3e0507-a482-4ac9-b3a8-1212ac7f7743"
      },
      "execution_count": null,
      "outputs": [
        {
          "output_type": "stream",
          "name": "stdout",
          "text": [
            "Alpha for the upper tail: 0.0176\n",
            "Alpha for the lower tail: 0.0176\n",
            "Total Alpha for the two-tailed test: 0.0352\n"
          ]
        }
      ]
    },
    {
      "cell_type": "markdown",
      "source": [
        "As we see in the above output, α equals to 0.0352 meaining that the probablity that X dont fall into 40<x<60 region is only 0.352 if the distribution is binomial(100,0.5)."
      ],
      "metadata": {
        "id": "ILXD6MzBXm8W"
      }
    },
    {
      "cell_type": "markdown",
      "source": [
        "### part 2\n",
        "To plot the power graph we need to change $H_A$ from 0 to 1 and calculate power for each point given the new $H_A$."
      ],
      "metadata": {
        "id": "ZZ7cudtOple7"
      }
    },
    {
      "cell_type": "code",
      "source": [
        "\n",
        "\n",
        "n = 100\n",
        "p_null = 0.5\n",
        "\n",
        "p_alternative_values = np.linspace(0, 1, 1000)\n",
        "\n",
        "# Function to calculate power for a given p under H1\n",
        "def calculate_power(p_alternative):\n",
        "    threshold_upper = binom.ppf(1 - alpha/2, n, p_null)\n",
        "    threshold_lower = binom.ppf(alpha/2, n, p_null)\n",
        "    power = 1 - binom.cdf(threshold_upper, n, p_alternative) + binom.cdf(threshold_lower, n, p_alternative)\n",
        "    return power\n",
        "\n",
        "# Calculate power for each value of p_alternative\n",
        "powers = [calculate_power(p) for p in p_alternative_values]\n",
        "\n",
        "plt.plot(p_alternative_values, powers, label=f'Power (alpha={alpha})')\n",
        "plt.axvline(x=0.5, color='g', linestyle='--', label='Null Hypothesis (p=0.5)')\n",
        "plt.xlabel('p (Under Alternative Hypothesis)')\n",
        "plt.ylabel('Power')\n",
        "plt.title('Power Diagram')\n",
        "plt.legend()\n",
        "plt.show()\n"
      ],
      "metadata": {
        "colab": {
          "base_uri": "https://localhost:8080/",
          "height": 472
        },
        "id": "P9kbJ0mjQlNp",
        "outputId": "fcddfada-baf9-4842-fd5a-84ea7cfa588b"
      },
      "execution_count": null,
      "outputs": [
        {
          "output_type": "display_data",
          "data": {
            "text/plain": [
              "<Figure size 640x480 with 1 Axes>"
            ],
            "image/png": "[encoded data removed]"
          },
          "metadata": {}
        }
      ]
    },
    {
      "cell_type": "markdown",
      "source": [
        "As we see the power around 0.5 is very low which considering $H_0 = 0.5$ was expected."
      ],
      "metadata": {
        "id": "0TjFOL9cqZ9L"
      }
    },
    {
      "cell_type": "markdown",
      "source": [
        "## problem 17\n",
        "$\\Lambda = \\frac{θ_0^n e^{-θ_0Σx_i}} {θ^n e^{-θΣx_i}} \\Rightarrow -2log(\\Lambda) = -2nlog(\\frac {θ_0}{θ})-2log(e^{(θ -θ_0)Σx_i}) $\n",
        "\n",
        "further simplification:\n",
        "\n",
        "$-2log(\\Lambda) = 2n(log(θ) - log(θ_0))+2((θ -θ_0)Σx_i) $\n",
        "\n",
        "From MLE we have:\n",
        "\n",
        "$\\bar{x} = \\frac{Σx_i}{n} \\Rightarrow Σx_i = n \\bar{x}=nθ $\n",
        "\n",
        "Also from propertis of exponential distribution we have that:\n",
        "\n",
        "$\\theta = \\frac{1}{\\bar{x}}$\n",
        "\n",
        "Which is the best estimation for theta with given data and maximizes the likelihood.subtituting the parameters we have:\n",
        "\n",
        "$-2log(\\Lambda) = 2n(\\bar{x}θ_0 -log(\\bar{x} θ_0)-1)$\n",
        "\n",
        "And we know that $-2log(\\Lambda)$  have a $χ^2$ distribution and because we have only one parameter it is a $χ^2$ with only one DOF.\n",
        "\n",
        "Now we caculate the critical region for the given distribution:\n",
        "\n",
        "${\n",
        "\\begin{cases}\n",
        "    χ_{1,0.025}^2 = 0.001 \\\\\n",
        "    χ_{1,0.975}^2 = 5.023\n",
        "\\end{cases}\n",
        "}$\n",
        "\n",
        "So if the value of $-2log(\\Lambda)$ become less than 0.0001 or more then 5.023 the hypotheses is rejected otherwise we cannot reject it."
      ],
      "metadata": {
        "id": "NEZ7frqzsZNh"
      }
    },
    {
      "cell_type": "markdown",
      "source": [
        "## problem 18\n"
      ],
      "metadata": {
        "id": "VWu2mhkfUCa3"
      }
    },
    {
      "cell_type": "markdown",
      "source": [
        "### part 1\n"
      ],
      "metadata": {
        "id": "lUdz9DmCrbCm"
      }
    },
    {
      "cell_type": "markdown",
      "source": [
        "In first part of the question I used t-test to determine whether it must be rejected or not.Inserting the parameters we will have $t=\\frac{25.9-28}{\\frac{5.6}{\\sqrt{50}}}=-2.6516$. Considering that DOF=50-1 =49 will result in $p_{value}=0.005$ which is below 0.05 hence it rejects the $H_0$ being μ>28."
      ],
      "metadata": {
        "id": "0FaaKJw9rngg"
      }
    },
    {
      "cell_type": "code",
      "source": [
        "sample_mean = 25.9\n",
        "sample_std = 5.6\n",
        "sample_size = 50\n",
        "null_hypothesis_mean = 28\n",
        "alpha = 0.05\n",
        "alternative = 'less'  # For one-tailed test\n",
        "\n",
        "# Calculate the t-statistic\n",
        "t_statistic = (sample_mean - null_hypothesis_mean) / (sample_std / math.sqrt(sample_size))\n",
        "\n",
        "# Calculate the critical value for a one-tailed test\n",
        "critical_value = stats.t.ppf(alpha, df=sample_size - 1)\n",
        "\n",
        "# Perform the t-test\n",
        "p_value = stats.t.cdf(t_statistic, df=sample_size - 1)\n",
        "\n",
        "print(f\"T-statistic: {t_statistic}\")\n",
        "print(f\"P-value: {p_value}\")"
      ],
      "metadata": {
        "colab": {
          "base_uri": "https://localhost:8080/"
        },
        "id": "x1W9wDj2TewO",
        "outputId": "898ea9ba-ad07-40e0-f7eb-ffe23a14a81f"
      },
      "execution_count": null,
      "outputs": [
        {
          "output_type": "stream",
          "name": "stdout",
          "text": [
            "T-statistic: -2.651650429449555\n",
            "P-value: 0.005380320766813442\n"
          ]
        }
      ]
    },
    {
      "cell_type": "markdown",
      "source": [
        "### part 2\n",
        "To find the power of this this test what we can do is to use critical value found in the previous part and then assuming T distribution of mean 27,DOF of 49 and STD derived from sample calculate the cdf of point critical value.\n",
        "\n",
        "$Type \\ II\\ Error\\ Probability=F(critical point)$\n",
        "\n",
        "$F=CDF(t(mean=27,DOF=49, STD=\\frac{5.6}{\\sqrt{50}}))$"
      ],
      "metadata": {
        "id": "5EIBYv7vst5T"
      }
    },
    {
      "cell_type": "code",
      "source": [
        "\n",
        "# Calculate the probability of Type II error\n",
        "true_mean = 27\n",
        "type_ii_error_probability = stats.t.cdf(critical_value, df=sample_size - 1, loc=true_mean, scale=sample_std / math.sqrt(sample_size))\n",
        "\n",
        "\n",
        "print(f\"Probability of Type II Error: {type_ii_error_probability}\")\n"
      ],
      "metadata": {
        "colab": {
          "base_uri": "https://localhost:8080/"
        },
        "id": "Wwpe9DuCzEny",
        "outputId": "0cc20e9f-b1e4-410d-b51a-de1106e0a63f"
      },
      "execution_count": null,
      "outputs": [
        {
          "output_type": "stream",
          "name": "stdout",
          "text": [
            "Probability of Type II Error: 2.5019685009147194e-37\n"
          ]
        }
      ]
    },
    {
      "cell_type": "markdown",
      "source": [
        "Type II error became $2.5*10^{-37}$ meaning that assuming true mean=27, test is very powerfull."
      ],
      "metadata": {
        "id": "8-plOW0mzmop"
      }
    },
    {
      "cell_type": "markdown",
      "source": [
        "## problem 19\n",
        "1) **Conclusions from the Study:**\n",
        "   - The sample mean of 130 minutes suggests that, on average, the surgeries in the study took around 130 minutes.\n",
        "   - The 95% confidence interval (CI) of 128.5 to 131.5 minutes indicates a range within which we can be 95% confident that the true population mean duration lies.\n",
        "   - This suggests that the researchers are reasonably certain about the average duration of the surgery, and it provides a measure of the precision of the estimate.\n",
        "\n",
        "2) **Bootstrap Method for Confidence Interval of the Median:**\n",
        "   - To construct a confidence interval for the median using the bootstrap method:\n",
        "     - Sample with replacement from the observed data to create multiple bootstrap samples.\n",
        "     - For each bootstrap sample, calculate the median.\n",
        "     - Create a distribution of bootstrap medians.\n",
        "     - Use percentiles of this distribution to form the confidence interval.\n",
        "\n",
        "3) **Advantages of Bootstrap Method:**\n",
        "   - **Distribution-Free:** The bootstrap method doesn't assume a specific distribution for the data, making it more robust when data assumptions are unclear.\n",
        "   - **Versatility:** It can be applied to various statistics (not just means), like medians or any other parameter of interest.\n",
        "   - **No Need for Assumptions:** Unlike parametric methods, the bootstrap method doesn't require assumptions about the underlying population distribution.\n",
        "\n",
        "4) **Is Bootstrap Always the Best Method?**\n",
        "   - No, the choice between methods depends on the nature of the data and the research question.\n",
        "   - Bootstrap may be advantageous when assumptions of parametric methods are violated, but for large, well-behaved datasets, parametric methods might be computationally more efficient and yield precise results.\n",
        "\n",
        "5) **Bootstrap Statistics and Calculation:**\n",
        "   - **Bootstrap Statistics:** These are values obtained by applying a statistical procedure to multiple bootstrap samples.\n",
        "   - **Calculation:**\n",
        "     - Take random samples with replacement from the observed data.\n",
        "     - Calculate the statistic of interest for each bootstrap sample.\n",
        "     - Aggregate the results, often by calculating the mean, median, or constructing a confidence interval from the distribution of bootstrap statistics.\n",
        "In summary, the bootstrap method is a powerful tool in statistics, offering flexibility and robustness in estimating parameters and constructing confidence intervals without stringent distributional assumptions. However, its suitability depends on the specific characteristics of the data and the research objectives."
      ],
      "metadata": {
        "id": "c9Y0lr3390J7"
      }
    },
    {
      "cell_type": "markdown",
      "source": [
        "## problem 20"
      ],
      "metadata": {
        "id": "FmhAvtcApIjB"
      }
    },
    {
      "cell_type": "markdown",
      "source": [
        "### part a,b,c"
      ],
      "metadata": {
        "id": "c4G9z02e2XIh"
      }
    },
    {
      "cell_type": "code",
      "source": [
        "np.random.seed(0)\n",
        "\n",
        "sample = np.random.beta(2, 5, 50)\n",
        "\n",
        "M = np.median(sample)\n",
        "\n",
        "# Perform a one-sample Wilcoxon signed rank test\n",
        "# H0: median is 0.4, H1: median is not 0.4\n",
        "_, p_value_04 = stats.wilcoxon(sample - 0.4)\n",
        "\n",
        "# Calculate the power of the test\n",
        "power_04 = smp.tt_solve_power(effect_size=(0.4 - M) / np.std(sample), nobs=50, alpha=0.05, alternative='larger')\n",
        "\n",
        "# Increase the value of 0.4 in the first part to 0.6 and repeat both parts\n",
        "_, p_value_06 = stats.wilcoxon(sample - 0.6)\n",
        "power_06 = smp.tt_solve_power(effect_size=(0.6 - M) / np.std(sample), nobs=50, alpha=0.05, alternative='larger')\n",
        "\n",
        "# Compare the results obtained in part c with part a and justify the change in the power\n",
        "comparison = \"Increase\" if power_06 > power_04 else \"Decrease\"\n",
        "\n",
        "print(f\"Median: {M}\")\n",
        "print(f\"P-value for H0: M = 0.4: {p_value_04}\")\n",
        "print(f\"Power of the test for H0: M = 0.4: {power_04}\")\n",
        "print(f\"P-value for H0: M = 0.6: {p_value_06}\")\n",
        "print(f\"Power of the test for H0: M = 0.6: {power_06}\")\n",
        "print(f\"The power of the test {comparison} when the median under H0 increases from 0.4 to 0.6.\")\n"
      ],
      "metadata": {
        "colab": {
          "base_uri": "https://localhost:8080/"
        },
        "id": "9-Q8-65DpHIq",
        "outputId": "19abf86c-28e5-464a-93cf-4a219ca89c0f"
      },
      "execution_count": null,
      "outputs": [
        {
          "output_type": "stream",
          "name": "stdout",
          "text": [
            "Median: 0.2298694450983968\n",
            "P-value for H0: M = 0.4: 5.951474850718341e-07\n",
            "Power of the test for H0: M = 0.4: 0.9999999999999661\n",
            "P-value for H0: M = 0.6: 5.861977570020827e-14\n",
            "Power of the test for H0: M = 0.6: 1.0\n",
            "The power of the test Increase when the median under H0 increases from 0.4 to 0.6.\n"
          ]
        }
      ]
    },
    {
      "cell_type": "markdown",
      "source": [
        "### part d\n",
        "As we saw in the output of previous cell, when i created a sample with size 50, median of that became about 0.23.using wilcoxon test resulted in $p_{value}=5.951*10^{-7}$ for $H_0=0.4$ meaning that we can reject $H_0$ strongly and power of this test is $1-10^{-16}$.\n",
        "\n",
        "When we do this test again with $H_0=0.6$ , $p_{value}$decreases to $p_{value}=5.862*10^{-14}$ which means stronger reject and power increases to near 1.\n",
        "\n",
        "We see that when we change $H_0$ from 0.4 to 0.6, $p_{value}$ decreases and power increases meaning that we have stronger evidence against the $H_0$.As said median of this sample was 0.23 and it's reasonable that moving further from 0.23 leads to drop in $p_{value}$ and increase in power."
      ],
      "metadata": {
        "id": "HV6NEDPO2dog"
      }
    },
    {
      "cell_type": "markdown",
      "source": [
        "## problem 21\n"
      ],
      "metadata": {
        "id": "chRf0mf-0JW0"
      }
    },
    {
      "cell_type": "markdown",
      "source": [
        "### part 1\n",
        "Given that we are testing that if varince of two samples are equal or not and the samples are from normal distribution ,the suitable test is F test. SO we can insert values of variance of each sample and then considering the DOF, reason about rejection of this test."
      ],
      "metadata": {
        "id": "W-6zrTOH7Zb9"
      }
    },
    {
      "cell_type": "markdown",
      "source": [
        "### part 2"
      ],
      "metadata": {
        "id": "jRohuwioeNFs"
      }
    },
    {
      "cell_type": "code",
      "source": [
        "def perform_f_test(sample_var_x, sample_var_y, n1, n2, alpha=0.05):\n",
        "\n",
        "    f_statistic = sample_var_x / sample_var_y\n",
        "\n",
        "\n",
        "    df_x = n1-1\n",
        "    df_y = n2-1\n",
        "\n",
        "    # Calculate the critical value from the F-distribution\n",
        "    critical_value = f.ppf(1 - alpha / 2, df_x, df_y)\n",
        "\n",
        "    # Calculate the p-value\n",
        "    p_value = 2 * min(f.cdf(f_statistic, df_x, df_y), 1 - f.cdf(f_statistic, df_x, df_y))\n",
        "\n",
        "    print(\"F-Statistic:\", f_statistic)\n",
        "    print(\"P-Value:\", p_value)\n",
        "\n",
        "\n",
        "np.random.seed(0)\n",
        "sample_x = np.random.normal(0, np.sqrt(3), 100)\n",
        "sample_y = np.random.normal(0, np.sqrt(10), 100)\n",
        "\n",
        "\n",
        "perform_f_test(np.var(sample_x, ddof=1), np.var(sample_y, ddof=1), 100, 100)"
      ],
      "metadata": {
        "colab": {
          "base_uri": "https://localhost:8080/"
        },
        "id": "8INLXbfZ0NHG",
        "outputId": "fb793ff6-4e10-4141-8840-3b52e7014aa8"
      },
      "execution_count": null,
      "outputs": [
        {
          "output_type": "stream",
          "name": "stdout",
          "text": [
            "F-Statistic: 0.28466865565856736\n",
            "P-Value: 1.4779833592241796e-09\n"
          ]
        }
      ]
    },
    {
      "cell_type": "markdown",
      "source": [
        "After performing simulation and test we see that $p_{value}$ becomes $1.478*10^{-10}$ which means that we can strongly reject $H_0: variance\\ of\\ two\\ sample\\ are\\ same.$"
      ],
      "metadata": {
        "id": "gNV46SFV9W9E"
      }
    },
    {
      "cell_type": "markdown",
      "source": [
        "## problem 22"
      ],
      "metadata": {
        "id": "6V8VZge0XoWv"
      }
    },
    {
      "cell_type": "markdown",
      "source": [
        "### part a\n",
        "I found KS test to be a proper test for this $H_0$. To do this test as usual we must create empirical CDF from the frequencies provided in given table and then find $D_n$ usind CDF of binom(12, 0.5).In python we use `kstest` to this process for us."
      ],
      "metadata": {
        "id": "TWaLJPBmiwB8"
      }
    },
    {
      "cell_type": "markdown",
      "source": [
        "### part b"
      ],
      "metadata": {
        "id": "0iAKu030zRVJ"
      }
    },
    {
      "cell_type": "code",
      "source": [
        "observed_frequencies = np.array([7, 45, 181, 478, 829, 1112, 1343, 1033, 670, 286, 104, 24, 3])\n",
        "\n",
        "np.random.seed(0)\n",
        "\n",
        "binomial_variables = np.random.binomial(12, 0.5, 6115)\n",
        "\n",
        "plt.hist(binomial_variables, bins=np.arange(0, 13) - 0.5, edgecolor='black', alpha=0.7, label='Binomial(12, 0.5)')\n",
        "\n",
        "plt.bar(np.arange(0, 13) , observed_frequencies, width=1, alpha=0.7, color='orange', label='Your Data')\n",
        "\n",
        "plt.title('Comparison of Distributions')\n",
        "plt.xlabel('Value')\n",
        "plt.ylabel('Frequency')\n",
        "plt.grid(axis='y', linestyle='--', alpha=0.7)\n",
        "plt.legend()\n",
        "\n",
        "\n",
        "plt.show()\n"
      ],
      "metadata": {
        "colab": {
          "base_uri": "https://localhost:8080/",
          "height": 472
        },
        "id": "Ry2go7D4uJFm",
        "outputId": "d1676a81-d74b-4570-c8f2-a3ebc73deda8"
      },
      "execution_count": null,
      "outputs": [
        {
          "output_type": "display_data",
          "data": {
            "text/plain": [
              "<Figure size 640x480 with 1 Axes>"
            ],
            "image/png": "[encoded data removed]"
          },
          "metadata": {}
        }
      ]
    },
    {
      "cell_type": "markdown",
      "source": [
        "### part c"
      ],
      "metadata": {
        "id": "NIkKMN3l16Ba"
      }
    },
    {
      "cell_type": "code",
      "source": [
        "\n",
        "total_families = np.sum(observed_frequencies)\n",
        "\n",
        "p_binom = 0.5\n",
        "expected_probabilities = binom.pmf(np.arange(13), 12, p_binom)\n",
        "\n",
        "\n",
        "ks_statistic, ks_p_value = kstest(observed_frequencies, cdf='binom', args=(13, p_binom))\n",
        "\n",
        "print(f'KS Statistic: {ks_statistic}')\n",
        "print(f'P-value: {ks_p_value}')\n"
      ],
      "metadata": {
        "colab": {
          "base_uri": "https://localhost:8080/"
        },
        "id": "1ttRF9MRaHgU",
        "outputId": "a504a443-e176-4503-e622-3d3971ba4c9b"
      },
      "execution_count": null,
      "outputs": [
        {
          "output_type": "stream",
          "name": "stdout",
          "text": [
            "KS Statistic: 0.8461538461538461\n",
            "P-value: 5.503918822368613e-11\n"
          ]
        }
      ]
    },
    {
      "cell_type": "markdown",
      "source": [
        "Results of the KS test indicates that there is strong evidence to reject $H_0$ which was that the observed data has same distribution with binom(12,0.5) because $p_{value}$ is far below 0.01.Considering the histogram of part b it was expected to have this as we see a huge difference in bin 5 and 7."
      ],
      "metadata": {
        "id": "P-6yhCiKjwJo"
      }
    }
  ]
}